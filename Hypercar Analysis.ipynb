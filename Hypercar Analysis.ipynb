{
 "cells": [
  {
   "cell_type": "markdown",
   "metadata": {},
   "source": [
    "# Hypercar Data Analysis\n",
    "### Sunpreet S. Chahal\n",
    "\n",
    "##### Within this notebook I will analyse a small dataset containing various hypercars.\n",
    "The data is seperated into;  Car Name, 'Displacement , Engine, hp, Transmission, Top-speeed, Cost.\n",
    "\n",
    "There are various missing/incorrect values within the dataset, these will need to be manipulated and cleaned to make the values correct.\n",
    "\n",
    "To conclude the analysis, I will visualise various factors that can be look into within this dataset, such as;\n",
    "- HP/Cost ( car woth the most hp/lowest cost, average HP/cost).\n",
    "- HP/top speed (car with the lowest hp/fastest top speed, highest hp/fastest etc., average HP/top speed).\n",
    "- Engine that delivers the highest HP/top speed seperated and combined.\n",
    "- Conclude the car with the best value (in terms of performance), not appreciating value due to rarity/history."
   ]
  },
  {
   "cell_type": "markdown",
   "metadata": {},
   "source": [
    "#### Set-up"
   ]
  },
  {
   "cell_type": "code",
   "execution_count": 16,
   "metadata": {},
   "outputs": [],
   "source": [
    "## Import libraries\n",
    "import pandas as pd\n",
    "import numpy as ny\n",
    "import matplotlib.pyplot as mpy\n",
    "import matplotlib as mtp\n",
    "import seaborn as sns"
   ]
  },
  {
   "cell_type": "code",
   "execution_count": 17,
   "metadata": {},
   "outputs": [
    {
     "data": {
      "text/html": [
       "<div>\n",
       "<style scoped>\n",
       "    .dataframe tbody tr th:only-of-type {\n",
       "        vertical-align: middle;\n",
       "    }\n",
       "\n",
       "    .dataframe tbody tr th {\n",
       "        vertical-align: top;\n",
       "    }\n",
       "\n",
       "    .dataframe thead th {\n",
       "        text-align: right;\n",
       "    }\n",
       "</style>\n",
       "<table border=\"1\" class=\"dataframe\">\n",
       "  <thead>\n",
       "    <tr style=\"text-align: right;\">\n",
       "      <th></th>\n",
       "      <th>Car Name</th>\n",
       "      <th>Displacement</th>\n",
       "      <th>Enginee</th>\n",
       "      <th>hp</th>\n",
       "      <th>Transmission</th>\n",
       "      <th>Toppp-speeed</th>\n",
       "      <th>Cost</th>\n",
       "    </tr>\n",
       "  </thead>\n",
       "  <tbody>\n",
       "    <tr>\n",
       "      <th>0</th>\n",
       "      <td>McLaren F1</td>\n",
       "      <td>6.100000345</td>\n",
       "      <td>V12</td>\n",
       "      <td>618.0</td>\n",
       "      <td>6.0</td>\n",
       "      <td>243.000</td>\n",
       "      <td>25, 000, 000</td>\n",
       "    </tr>\n",
       "    <tr>\n",
       "      <th>1</th>\n",
       "      <td>Bugatti Chiron</td>\n",
       "      <td>8</td>\n",
       "      <td>W16</td>\n",
       "      <td>1479.0</td>\n",
       "      <td>7.0</td>\n",
       "      <td>250.000</td>\n",
       "      <td>3, 000, 000</td>\n",
       "    </tr>\n",
       "    <tr>\n",
       "      <th>2</th>\n",
       "      <td>Mercedes-AMG ONE</td>\n",
       "      <td>1.6</td>\n",
       "      <td>V6</td>\n",
       "      <td>748.0</td>\n",
       "      <td>8.0</td>\n",
       "      <td>217.000</td>\n",
       "      <td>2, 653, 000</td>\n",
       "    </tr>\n",
       "    <tr>\n",
       "      <th>3</th>\n",
       "      <td>McLaren Sennaaaa</td>\n",
       "      <td>4</td>\n",
       "      <td>V8987654</td>\n",
       "      <td>789.0</td>\n",
       "      <td>NaN</td>\n",
       "      <td>211.000</td>\n",
       "      <td>1, 500, 000</td>\n",
       "    </tr>\n",
       "    <tr>\n",
       "      <th>4</th>\n",
       "      <td>Koenigseeeggg Agera</td>\n",
       "      <td>5</td>\n",
       "      <td>V8</td>\n",
       "      <td>1016.0</td>\n",
       "      <td>NaN</td>\n",
       "      <td>249.000</td>\n",
       "      <td>2, 500, 000</td>\n",
       "    </tr>\n",
       "    <tr>\n",
       "      <th>5</th>\n",
       "      <td>Porsche 918 Spyder</td>\n",
       "      <td>Hello</td>\n",
       "      <td>V8</td>\n",
       "      <td>NaN</td>\n",
       "      <td>7.0</td>\n",
       "      <td>211.000</td>\n",
       "      <td>900, 000</td>\n",
       "    </tr>\n",
       "    <tr>\n",
       "      <th>6</th>\n",
       "      <td>Ferrari LaFerrari</td>\n",
       "      <td>6.3</td>\n",
       "      <td>V12</td>\n",
       "      <td>949.0</td>\n",
       "      <td>7.0</td>\n",
       "      <td>NaN</td>\n",
       "      <td>2, 000, 000</td>\n",
       "    </tr>\n",
       "    <tr>\n",
       "      <th>7</th>\n",
       "      <td>Pagaaani Huayra BC</td>\n",
       "      <td>6</td>\n",
       "      <td>__</td>\n",
       "      <td>745.0</td>\n",
       "      <td>7.0</td>\n",
       "      <td>230.000</td>\n",
       "      <td>2, 550, 000</td>\n",
       "    </tr>\n",
       "    <tr>\n",
       "      <th>8</th>\n",
       "      <td>Aston Martin Valkyrie</td>\n",
       "      <td>6.590987865</td>\n",
       "      <td>V12</td>\n",
       "      <td>NaN</td>\n",
       "      <td>NaN</td>\n",
       "      <td>250.000</td>\n",
       "      <td>3, 200, 000</td>\n",
       "    </tr>\n",
       "    <tr>\n",
       "      <th>9</th>\n",
       "      <td>Bugatti Veyronre</td>\n",
       "      <td>8</td>\n",
       "      <td>W16</td>\n",
       "      <td>987.0</td>\n",
       "      <td>7.0</td>\n",
       "      <td>267.856</td>\n",
       "      <td>2, 000, 000</td>\n",
       "    </tr>\n",
       "  </tbody>\n",
       "</table>\n",
       "</div>"
      ],
      "text/plain": [
       "                Car Name Displacement    Enginee            hp  \\\n",
       "0             McLaren F1   6.100000345       V12         618.0   \n",
       "1         Bugatti Chiron             8       W16        1479.0   \n",
       "2       Mercedes-AMG ONE           1.6        V6         748.0   \n",
       "3       McLaren Sennaaaa             4  V8987654         789.0   \n",
       "4    Koenigseeeggg Agera             5        V8        1016.0   \n",
       "5     Porsche 918 Spyder         Hello        V8           NaN   \n",
       "6      Ferrari LaFerrari           6.3       V12         949.0   \n",
       "7     Pagaaani Huayra BC             6        __         745.0   \n",
       "8  Aston Martin Valkyrie   6.590987865       V12           NaN   \n",
       "9       Bugatti Veyronre             8       W16         987.0   \n",
       "\n",
       "      Transmission      Toppp-speeed            Cost  \n",
       "0              6.0           243.000    25, 000, 000  \n",
       "1              7.0           250.000     3, 000, 000  \n",
       "2              8.0           217.000     2, 653, 000  \n",
       "3              NaN           211.000     1, 500, 000  \n",
       "4              NaN           249.000     2, 500, 000  \n",
       "5              7.0           211.000        900, 000  \n",
       "6              7.0               NaN     2, 000, 000  \n",
       "7              7.0           230.000     2, 550, 000  \n",
       "8              NaN           250.000     3, 200, 000  \n",
       "9              7.0           267.856     2, 000, 000  "
      ]
     },
     "execution_count": 17,
     "metadata": {},
     "output_type": "execute_result"
    }
   ],
   "source": [
    "## Import Dataframe \n",
    "#Duplicate backslashes (\\) if cannot load df.\n",
    "hyperdb = pd.read_csv(\"D:\\PROJECTS\\Hyper Cars ✔\\Hyper Cars ORIGINAL.csv\",encoding='ISO-8859-1',low_memory=False)\n",
    "\n",
    "#Present Data\n",
    "hyperdb"
   ]
  },
  {
   "cell_type": "code",
   "execution_count": 18,
   "metadata": {},
   "outputs": [
    {
     "data": {
      "text/plain": [
       "Index(['     Car Name', 'Displacement ', 'Enginee', '          hp',\n",
       "       '   Transmission', '    Toppp-speeed', '           Cost'],\n",
       "      dtype='object')"
      ]
     },
     "execution_count": 18,
     "metadata": {},
     "output_type": "execute_result"
    }
   ],
   "source": [
    "##Print columns for future referece\n",
    "hyperdb.columns"
   ]
  },
  {
   "cell_type": "markdown",
   "metadata": {},
   "source": [
    "#### Data Manipulation"
   ]
  },
  {
   "cell_type": "code",
   "execution_count": 19,
   "metadata": {},
   "outputs": [
    {
     "data": {
      "text/html": [
       "<div>\n",
       "<style scoped>\n",
       "    .dataframe tbody tr th:only-of-type {\n",
       "        vertical-align: middle;\n",
       "    }\n",
       "\n",
       "    .dataframe tbody tr th {\n",
       "        vertical-align: top;\n",
       "    }\n",
       "\n",
       "    .dataframe thead th {\n",
       "        text-align: right;\n",
       "    }\n",
       "</style>\n",
       "<table border=\"1\" class=\"dataframe\">\n",
       "  <thead>\n",
       "    <tr style=\"text-align: right;\">\n",
       "      <th></th>\n",
       "      <th>Car Name</th>\n",
       "      <th>Displacement</th>\n",
       "      <th>Engine</th>\n",
       "      <th>hp</th>\n",
       "      <th>Transmission</th>\n",
       "      <th>Top-Speed</th>\n",
       "      <th>Cost</th>\n",
       "    </tr>\n",
       "  </thead>\n",
       "  <tbody>\n",
       "    <tr>\n",
       "      <th>0</th>\n",
       "      <td>McLaren F1</td>\n",
       "      <td>6.1</td>\n",
       "      <td>V12</td>\n",
       "      <td>618.0</td>\n",
       "      <td>6.0</td>\n",
       "      <td>243.000</td>\n",
       "      <td>25, 000, 000</td>\n",
       "    </tr>\n",
       "    <tr>\n",
       "      <th>1</th>\n",
       "      <td>Bugatti Chiron</td>\n",
       "      <td>8</td>\n",
       "      <td>W16</td>\n",
       "      <td>1479.0</td>\n",
       "      <td>7.0</td>\n",
       "      <td>250.000</td>\n",
       "      <td>3, 000, 000</td>\n",
       "    </tr>\n",
       "    <tr>\n",
       "      <th>2</th>\n",
       "      <td>Mercedes-AMG ONE</td>\n",
       "      <td>1.6</td>\n",
       "      <td>V6</td>\n",
       "      <td>748.0</td>\n",
       "      <td>8.0</td>\n",
       "      <td>217.000</td>\n",
       "      <td>2, 653, 000</td>\n",
       "    </tr>\n",
       "    <tr>\n",
       "      <th>3</th>\n",
       "      <td>McLaren Senna</td>\n",
       "      <td>4</td>\n",
       "      <td>V8</td>\n",
       "      <td>789.0</td>\n",
       "      <td>NaN</td>\n",
       "      <td>211.000</td>\n",
       "      <td>1, 500, 000</td>\n",
       "    </tr>\n",
       "    <tr>\n",
       "      <th>4</th>\n",
       "      <td>Koenigsegg Agera</td>\n",
       "      <td>5</td>\n",
       "      <td>V8</td>\n",
       "      <td>1016.0</td>\n",
       "      <td>NaN</td>\n",
       "      <td>249.000</td>\n",
       "      <td>2, 500, 000</td>\n",
       "    </tr>\n",
       "    <tr>\n",
       "      <th>5</th>\n",
       "      <td>Porsche 918 Spyder</td>\n",
       "      <td>4.6</td>\n",
       "      <td>V8</td>\n",
       "      <td>NaN</td>\n",
       "      <td>7.0</td>\n",
       "      <td>211.000</td>\n",
       "      <td>900, 000</td>\n",
       "    </tr>\n",
       "    <tr>\n",
       "      <th>6</th>\n",
       "      <td>Ferrari LaFerrari</td>\n",
       "      <td>6.3</td>\n",
       "      <td>V12</td>\n",
       "      <td>949.0</td>\n",
       "      <td>7.0</td>\n",
       "      <td>NaN</td>\n",
       "      <td>2, 000, 000</td>\n",
       "    </tr>\n",
       "    <tr>\n",
       "      <th>7</th>\n",
       "      <td>Pagani Huayra BC</td>\n",
       "      <td>6</td>\n",
       "      <td>V12</td>\n",
       "      <td>745.0</td>\n",
       "      <td>7.0</td>\n",
       "      <td>230.000</td>\n",
       "      <td>2, 550, 000</td>\n",
       "    </tr>\n",
       "    <tr>\n",
       "      <th>8</th>\n",
       "      <td>Aston Martin Valkyrie</td>\n",
       "      <td>6.5</td>\n",
       "      <td>V12</td>\n",
       "      <td>NaN</td>\n",
       "      <td>NaN</td>\n",
       "      <td>250.000</td>\n",
       "      <td>3, 200, 000</td>\n",
       "    </tr>\n",
       "    <tr>\n",
       "      <th>9</th>\n",
       "      <td>Bugatti Veyron</td>\n",
       "      <td>8</td>\n",
       "      <td>W16</td>\n",
       "      <td>987.0</td>\n",
       "      <td>7.0</td>\n",
       "      <td>267.856</td>\n",
       "      <td>2, 000, 000</td>\n",
       "    </tr>\n",
       "  </tbody>\n",
       "</table>\n",
       "</div>"
      ],
      "text/plain": [
       "                Car Name Displacement  Engine            hp     Transmission  \\\n",
       "0             McLaren F1           6.1    V12         618.0              6.0   \n",
       "1         Bugatti Chiron             8    W16        1479.0              7.0   \n",
       "2       Mercedes-AMG ONE           1.6     V6         748.0              8.0   \n",
       "3          McLaren Senna             4     V8         789.0              NaN   \n",
       "4       Koenigsegg Agera             5     V8        1016.0              NaN   \n",
       "5     Porsche 918 Spyder           4.6     V8           NaN              7.0   \n",
       "6      Ferrari LaFerrari           6.3    V12         949.0              7.0   \n",
       "7       Pagani Huayra BC             6    V12         745.0              7.0   \n",
       "8  Aston Martin Valkyrie           6.5    V12           NaN              NaN   \n",
       "9         Bugatti Veyron             8    W16         987.0              7.0   \n",
       "\n",
       "   Top-Speed            Cost  \n",
       "0    243.000    25, 000, 000  \n",
       "1    250.000     3, 000, 000  \n",
       "2    217.000     2, 653, 000  \n",
       "3    211.000     1, 500, 000  \n",
       "4    249.000     2, 500, 000  \n",
       "5    211.000        900, 000  \n",
       "6        NaN     2, 000, 000  \n",
       "7    230.000     2, 550, 000  \n",
       "8    250.000     3, 200, 000  \n",
       "9    267.856     2, 000, 000  "
      ]
     },
     "execution_count": 19,
     "metadata": {},
     "output_type": "execute_result"
    }
   ],
   "source": [
    "##Replace all incorrect values within the df - c = clean. \n",
    "#Values for each column below were gathered from Google searches\n",
    "\n",
    "#Replace car names\n",
    "hyperdb = hyperdb.replace(\"Koenigseeeggg Agera\",\"Koenigsegg Agera\")\n",
    "hyperdb = hyperdb.replace(\"McLaren Sennaaaa\",\"McLaren Senna\")\n",
    "hyperdb = hyperdb.replace(\"Pagaaani Huayra BC\",\"Pagani Huayra BC\")\n",
    "hyperdb = hyperdb.replace(\"Bugatti Veyronre\",\"Bugatti Veyron\")\n",
    "\n",
    "#Replace displacement values\n",
    "hyperdb = hyperdb.replace(\"6.100000345\",\"6.1\") \n",
    "hyperdb = hyperdb.replace(\"Hello\",\"4.6\")\n",
    "hyperdb = hyperdb.replace(\"6.590987865\",\"6.5\") \n",
    "\n",
    "#Replace engine values\n",
    "hyperdb = hyperdb.replace(\"__\",\"V12\") \n",
    "hyperdb = hyperdb.replace(\"V8987654\",\"V8\") \n",
    "\n",
    "#Replace incorrect column names\n",
    "hyperdb = hyperdb.rename(columns={\"    Toppp-speeed\": \"Top-Speed\", \"Enginee\": \"Engine\"})\n",
    "\n",
    "#Print changes \n",
    "hyperdb"
   ]
  },
  {
   "cell_type": "markdown",
   "metadata": {},
   "source": [
    "#### Data Cleaning"
   ]
  },
  {
   "cell_type": "code",
   "execution_count": 20,
   "metadata": {},
   "outputs": [
    {
     "data": {
      "text/plain": [
       "     Car Name      False\n",
       "Displacement       False\n",
       "Engine             False\n",
       "          hp        True\n",
       "   Transmission     True\n",
       "Top-Speed           True\n",
       "           Cost    False\n",
       "dtype: bool"
      ]
     },
     "execution_count": 20,
     "metadata": {},
     "output_type": "execute_result"
    }
   ],
   "source": [
    "##Check for null values\n",
    "\n",
    "hyperdb.isnull().any()\n",
    "#There are 3 columsn with null values; HP, Transmission and Top Speed"
   ]
  },
  {
   "cell_type": "code",
   "execution_count": 21,
   "metadata": {},
   "outputs": [
    {
     "data": {
      "text/plain": [
       "Index(['     Car Name', 'Displacement ', 'Engine', '          hp',\n",
       "       '   Transmission', 'Top-Speed', '           Cost'],\n",
       "      dtype='object')"
      ]
     },
     "execution_count": 21,
     "metadata": {},
     "output_type": "execute_result"
    }
   ],
   "source": [
    "hyperdb.columns"
   ]
  },
  {
   "cell_type": "code",
   "execution_count": 22,
   "metadata": {},
   "outputs": [
    {
     "data": {
      "text/html": [
       "<div>\n",
       "<style scoped>\n",
       "    .dataframe tbody tr th:only-of-type {\n",
       "        vertical-align: middle;\n",
       "    }\n",
       "\n",
       "    .dataframe tbody tr th {\n",
       "        vertical-align: top;\n",
       "    }\n",
       "\n",
       "    .dataframe thead th {\n",
       "        text-align: right;\n",
       "    }\n",
       "</style>\n",
       "<table border=\"1\" class=\"dataframe\">\n",
       "  <thead>\n",
       "    <tr style=\"text-align: right;\">\n",
       "      <th></th>\n",
       "      <th>Car Name</th>\n",
       "      <th>Displacement</th>\n",
       "      <th>Engine</th>\n",
       "      <th>hp</th>\n",
       "      <th>Transmission</th>\n",
       "      <th>Top-Speed</th>\n",
       "      <th>Cost</th>\n",
       "    </tr>\n",
       "  </thead>\n",
       "  <tbody>\n",
       "    <tr>\n",
       "      <th>0</th>\n",
       "      <td>McLaren F1</td>\n",
       "      <td>6.1</td>\n",
       "      <td>V12</td>\n",
       "      <td>618.0</td>\n",
       "      <td>6.0</td>\n",
       "      <td>243.000</td>\n",
       "      <td>25, 000, 000</td>\n",
       "    </tr>\n",
       "    <tr>\n",
       "      <th>1</th>\n",
       "      <td>Bugatti Chiron</td>\n",
       "      <td>8</td>\n",
       "      <td>W16</td>\n",
       "      <td>1479.0</td>\n",
       "      <td>7.0</td>\n",
       "      <td>250.000</td>\n",
       "      <td>3, 000, 000</td>\n",
       "    </tr>\n",
       "    <tr>\n",
       "      <th>2</th>\n",
       "      <td>Mercedes-AMG ONE</td>\n",
       "      <td>1.6</td>\n",
       "      <td>V6</td>\n",
       "      <td>748.0</td>\n",
       "      <td>8.0</td>\n",
       "      <td>217.000</td>\n",
       "      <td>2, 653, 000</td>\n",
       "    </tr>\n",
       "    <tr>\n",
       "      <th>3</th>\n",
       "      <td>McLaren Senna</td>\n",
       "      <td>4</td>\n",
       "      <td>V8</td>\n",
       "      <td>789.0</td>\n",
       "      <td>7.0</td>\n",
       "      <td>211.000</td>\n",
       "      <td>1, 500, 000</td>\n",
       "    </tr>\n",
       "    <tr>\n",
       "      <th>4</th>\n",
       "      <td>Koenigsegg Agera</td>\n",
       "      <td>5</td>\n",
       "      <td>V8</td>\n",
       "      <td>1016.0</td>\n",
       "      <td>7.0</td>\n",
       "      <td>249.000</td>\n",
       "      <td>2, 500, 000</td>\n",
       "    </tr>\n",
       "    <tr>\n",
       "      <th>5</th>\n",
       "      <td>Porsche 918 Spyder</td>\n",
       "      <td>4.6</td>\n",
       "      <td>V8</td>\n",
       "      <td>1160.0</td>\n",
       "      <td>7.0</td>\n",
       "      <td>211.000</td>\n",
       "      <td>900, 000</td>\n",
       "    </tr>\n",
       "    <tr>\n",
       "      <th>6</th>\n",
       "      <td>Ferrari LaFerrari</td>\n",
       "      <td>6.3</td>\n",
       "      <td>V12</td>\n",
       "      <td>949.0</td>\n",
       "      <td>7.0</td>\n",
       "      <td>217.000</td>\n",
       "      <td>2, 000, 000</td>\n",
       "    </tr>\n",
       "    <tr>\n",
       "      <th>7</th>\n",
       "      <td>Pagani Huayra BC</td>\n",
       "      <td>6</td>\n",
       "      <td>V12</td>\n",
       "      <td>745.0</td>\n",
       "      <td>7.0</td>\n",
       "      <td>230.000</td>\n",
       "      <td>2, 550, 000</td>\n",
       "    </tr>\n",
       "    <tr>\n",
       "      <th>8</th>\n",
       "      <td>Aston Martin Valkyrie</td>\n",
       "      <td>6.5</td>\n",
       "      <td>V12</td>\n",
       "      <td>1160.0</td>\n",
       "      <td>7.0</td>\n",
       "      <td>250.000</td>\n",
       "      <td>3, 200, 000</td>\n",
       "    </tr>\n",
       "    <tr>\n",
       "      <th>9</th>\n",
       "      <td>Bugatti Veyron</td>\n",
       "      <td>8</td>\n",
       "      <td>W16</td>\n",
       "      <td>987.0</td>\n",
       "      <td>7.0</td>\n",
       "      <td>267.856</td>\n",
       "      <td>2, 000, 000</td>\n",
       "    </tr>\n",
       "  </tbody>\n",
       "</table>\n",
       "</div>"
      ],
      "text/plain": [
       "                Car Name Displacement  Engine            hp     Transmission  \\\n",
       "0             McLaren F1           6.1    V12         618.0              6.0   \n",
       "1         Bugatti Chiron             8    W16        1479.0              7.0   \n",
       "2       Mercedes-AMG ONE           1.6     V6         748.0              8.0   \n",
       "3          McLaren Senna             4     V8         789.0              7.0   \n",
       "4       Koenigsegg Agera             5     V8        1016.0              7.0   \n",
       "5     Porsche 918 Spyder           4.6     V8        1160.0              7.0   \n",
       "6      Ferrari LaFerrari           6.3    V12         949.0              7.0   \n",
       "7       Pagani Huayra BC             6    V12         745.0              7.0   \n",
       "8  Aston Martin Valkyrie           6.5    V12        1160.0              7.0   \n",
       "9         Bugatti Veyron             8    W16         987.0              7.0   \n",
       "\n",
       "   Top-Speed            Cost  \n",
       "0    243.000    25, 000, 000  \n",
       "1    250.000     3, 000, 000  \n",
       "2    217.000     2, 653, 000  \n",
       "3    211.000     1, 500, 000  \n",
       "4    249.000     2, 500, 000  \n",
       "5    211.000        900, 000  \n",
       "6    217.000     2, 000, 000  \n",
       "7    230.000     2, 550, 000  \n",
       "8    250.000     3, 200, 000  \n",
       "9    267.856     2, 000, 000  "
      ]
     },
     "execution_count": 22,
     "metadata": {},
     "output_type": "execute_result"
    }
   ],
   "source": [
    "##Fill in the null values\n",
    "#Values for each column below were gathered from Google searches\n",
    "\n",
    "hyperdb = hyperdb.fillna({'          hp': 1160.0,'   Transmission': 7.0, 'Top-Speed': 217})\n",
    "hyperdb"
   ]
  },
  {
   "cell_type": "markdown",
   "metadata": {},
   "source": [
    "#### Data Visualisation"
   ]
  },
  {
   "cell_type": "code",
   "execution_count": 23,
   "metadata": {},
   "outputs": [
    {
     "data": {
      "text/html": [
       "<div>\n",
       "<style scoped>\n",
       "    .dataframe tbody tr th:only-of-type {\n",
       "        vertical-align: middle;\n",
       "    }\n",
       "\n",
       "    .dataframe tbody tr th {\n",
       "        vertical-align: top;\n",
       "    }\n",
       "\n",
       "    .dataframe thead th {\n",
       "        text-align: right;\n",
       "    }\n",
       "</style>\n",
       "<table border=\"1\" class=\"dataframe\">\n",
       "  <thead>\n",
       "    <tr style=\"text-align: right;\">\n",
       "      <th></th>\n",
       "      <th>hp</th>\n",
       "      <th>Transmission</th>\n",
       "      <th>Top-Speed</th>\n",
       "    </tr>\n",
       "  </thead>\n",
       "  <tbody>\n",
       "    <tr>\n",
       "      <th>count</th>\n",
       "      <td>10.000000</td>\n",
       "      <td>10.000000</td>\n",
       "      <td>10.000000</td>\n",
       "    </tr>\n",
       "    <tr>\n",
       "      <th>mean</th>\n",
       "      <td>965.100000</td>\n",
       "      <td>7.000000</td>\n",
       "      <td>234.585600</td>\n",
       "    </tr>\n",
       "    <tr>\n",
       "      <th>std</th>\n",
       "      <td>256.138179</td>\n",
       "      <td>0.471405</td>\n",
       "      <td>20.035523</td>\n",
       "    </tr>\n",
       "    <tr>\n",
       "      <th>min</th>\n",
       "      <td>618.000000</td>\n",
       "      <td>6.000000</td>\n",
       "      <td>211.000000</td>\n",
       "    </tr>\n",
       "    <tr>\n",
       "      <th>25%</th>\n",
       "      <td>758.250000</td>\n",
       "      <td>7.000000</td>\n",
       "      <td>217.000000</td>\n",
       "    </tr>\n",
       "    <tr>\n",
       "      <th>50%</th>\n",
       "      <td>968.000000</td>\n",
       "      <td>7.000000</td>\n",
       "      <td>236.500000</td>\n",
       "    </tr>\n",
       "    <tr>\n",
       "      <th>75%</th>\n",
       "      <td>1124.000000</td>\n",
       "      <td>7.000000</td>\n",
       "      <td>249.750000</td>\n",
       "    </tr>\n",
       "    <tr>\n",
       "      <th>max</th>\n",
       "      <td>1479.000000</td>\n",
       "      <td>8.000000</td>\n",
       "      <td>267.856000</td>\n",
       "    </tr>\n",
       "  </tbody>\n",
       "</table>\n",
       "</div>"
      ],
      "text/plain": [
       "                 hp     Transmission   Top-Speed\n",
       "count     10.000000        10.000000   10.000000\n",
       "mean     965.100000         7.000000  234.585600\n",
       "std      256.138179         0.471405   20.035523\n",
       "min      618.000000         6.000000  211.000000\n",
       "25%      758.250000         7.000000  217.000000\n",
       "50%      968.000000         7.000000  236.500000\n",
       "75%     1124.000000         7.000000  249.750000\n",
       "max     1479.000000         8.000000  267.856000"
      ]
     },
     "execution_count": 23,
     "metadata": {},
     "output_type": "execute_result"
    }
   ],
   "source": [
    "##Present a summary of all numeric values within the dataset. \n",
    "hyperdb.describe()"
   ]
  },
  {
   "cell_type": "markdown",
   "metadata": {},
   "source": [
    "##### Correlation of HP/Top Speed"
   ]
  },
  {
   "cell_type": "code",
   "execution_count": 24,
   "metadata": {},
   "outputs": [
    {
     "data": {
      "text/plain": [
       "<matplotlib.axes._subplots.AxesSubplot at 0x17e41c89df0>"
      ]
     },
     "execution_count": 24,
     "metadata": {},
     "output_type": "execute_result"
    },
    {
     "data": {
      "image/png": "[encoded data removed]",
      "text/plain": [
       "<Figure size 1080x360 with 1 Axes>"
      ]
     },
     "metadata": {
      "needs_background": "light"
     },
     "output_type": "display_data"
    }
   ],
   "source": [
    "##Compare the correlation of HP and Top Speed\n",
    "#Visualise whether HP correlates to a high speed or not. \n",
    "hyperdb[['          hp', 'Top-Speed']].plot.bar(figsize=(15,5))"
   ]
  },
  {
   "cell_type": "markdown",
   "metadata": {},
   "source": [
    "We can see from the graph above that there is not clear correlation of; high HP resulting in a higher speed.\n",
    "The Bugatti Chiron has the most HP - 1479.0, but has the same/simillar top speed of the Aston Martin Valkrie and the Koenigsegg Agera.\n",
    "\n",
    "We can clearly see that the McLaren F1 has the most efficient HP:Top Speed ratio. We know this via the density of the bars. \n",
    "Though the price is an extreme outlier, ~10x the price of yhe other cars listed, so there are pros and cons to the McLaren F1. \n",
    "\n",
    "Though HP isn't solely responsible for the top-speed, from the graph we can see that the McLaren F1 uses it's HP the most efficiently, whereas the Bugatti Chiron is the least efficient, having alot of HP but has a simillar top speed as the Aston Martin/Koenigsegg. "
   ]
  },
  {
   "cell_type": "markdown",
   "metadata": {},
   "source": [
    "##### Hypercar Price Comparison "
   ]
  },
  {
   "cell_type": "code",
   "execution_count": 25,
   "metadata": {},
   "outputs": [
    {
     "data": {
      "text/plain": [
       "0               McLaren F1\n",
       "1           Bugatti Chiron\n",
       "2         Mercedes-AMG ONE\n",
       "3            McLaren Senna\n",
       "4         Koenigsegg Agera\n",
       "5       Porsche 918 Spyder\n",
       "6        Ferrari LaFerrari\n",
       "7         Pagani Huayra BC\n",
       "8    Aston Martin Valkyrie\n",
       "9           Bugatti Veyron\n",
       "Name:      Car Name, dtype: object"
      ]
     },
     "execution_count": 25,
     "metadata": {},
     "output_type": "execute_result"
    }
   ],
   "source": [
    "##Costs variable\n",
    "Costs = hyperdb['           Cost']\n",
    "Costs\n",
    "Carnames = hyperdb['     Car Name']\n",
    "Carnames"
   ]
  },
  {
   "cell_type": "code",
   "execution_count": 26,
   "metadata": {},
   "outputs": [
    {
     "data": {
      "image/png": "[encoded data removed]",
      "text/plain": [
       "<Figure size 1080x720 with 1 Axes>"
      ]
     },
     "metadata": {},
     "output_type": "display_data"
    }
   ],
   "source": [
    "##Compare the prices of all the cars within the dataset\n",
    "\n",
    "#Values/Labels for pie\n",
    "costlabel =  ['McLaren F1','Bugatti Chiron','Mercedes-AMG ONE','McLaren Senna',\n",
    "'Koenigsegg Agera','Porsche 918 Spyder','Ferrari LaFerrari','Pagani Huayra BC',\n",
    "'Aston Martin Valkyrie','Bugatti Veyron']\n",
    "costvalues = ['25000000','3000000','2653000','1500000','2500000',\n",
    "              '900000','2000000','2550000','3200000','2000000']\n",
    "mpy.figure(figsize = (15,10))\n",
    "\n",
    "#Plot Pie\n",
    "Costpie = mpy.pie(costvalues, labels = costlabel)\n",
    "\n",
    "#Present\n",
    "mpy.legend()\n",
    "mpy.show(Costpie)"
   ]
  },
  {
   "cell_type": "markdown",
   "metadata": {},
   "source": [
    "From this graph we can see that the McLaren F1 is dominating in temrs of cost. \n",
    "The reason for the extremely high pricetag is due to a few factors; \n",
    "\n",
    "- Very limited stock, with only 106 made, with ~64 left for road use. \n",
    "- All versions of the McLaren F1 are able to reach face-melting speeds - performance that competes with modern hypercars, and the sound that the V12 produces is nothing short of music to the ears.\n",
    "- The F1 has cemented its name as an 'All-time classic' and one of the 'Greatest supercar of all-time', these labels evoke a   sense of prestige within collectors, when they are finally able to buy a McLaren F1\n",
    "\n",
    "\n",
    "- These are the few reasons for why the McLaren F1 is now values around - $25,000,000. \n",
    "\n",
    "- The original price in 1992 was; $815,000\n",
    "\n",
    "\n",
    "\n",
    "\n",
    "\n",
    "The Porsche 918 Sypder, like the McLaren is an outlier, being the cheapest car from the selection ($900,000.00). Relative to the other hypercars within this list, it's not the top performer, resulting in it's lower price. \n",
    "Though the performance the 918 Sypder delivers is nothing short of outstanding, the other hypercars seem to offer a little bit more. "
   ]
  },
  {
   "cell_type": "code",
   "execution_count": 27,
   "metadata": {},
   "outputs": [
    {
     "data": {
      "text/plain": [
       "4530300.0"
      ]
     },
     "execution_count": 27,
     "metadata": {},
     "output_type": "execute_result"
    }
   ],
   "source": [
    "##Calculate Avgerage Cost\n",
    "avgcost = [25000000,3000000,2653000,1500000,2500000,\n",
    "              900000,2000000,2550000,3200000,2000000]\n",
    "sum(avgcost) / len(avgcost)"
   ]
  },
  {
   "cell_type": "markdown",
   "metadata": {},
   "source": [
    "##### Find Outliers within the dataset"
   ]
  },
  {
   "cell_type": "code",
   "execution_count": 28,
   "metadata": {},
   "outputs": [
    {
     "data": {
      "text/plain": [
       "<seaborn.axisgrid.PairGrid at 0x17e41117730>"
      ]
     },
     "execution_count": 28,
     "metadata": {},
     "output_type": "execute_result"
    },
    {
     "data": {
      "image/png": "[encoded data removed]",
      "text/plain": [
       "<Figure size 720x720 with 20 Axes>"
      ]
     },
     "metadata": {
      "needs_background": "light"
     },
     "output_type": "display_data"
    }
   ],
   "source": [
    "##\n",
    "sns.pairplot(hyperdb)"
   ]
  },
  {
   "cell_type": "markdown",
   "metadata": {},
   "source": [
    "The pairplot above represents a few important factors, such as;\n",
    "\n",
    "- More gears =/ higher top speed.\n",
    "- Higher HP =/ higher top speed. The Bugatti Veyron produces 987hp, and a top-speed of 267mph (Highest of cars present in this dataset). Though there are alot of factors regarding performance within a car (weight, downforce, tyres etc.), I'm currently focusing on one factor - HP.\n"
   ]
  }
 ],
 "metadata": {
  "kernelspec": {
   "display_name": "Python 3",
   "language": "python",
   "name": "python3"
  },
  "language_info": {
   "codemirror_mode": {
    "name": "ipython",
    "version": 3
   },
   "file_extension": ".py",
   "mimetype": "text/x-python",
   "name": "python",
   "nbconvert_exporter": "python",
   "pygments_lexer": "ipython3",
   "version": "3.8.3"
  }
 },
 "nbformat": 4,
 "nbformat_minor": 4
}
